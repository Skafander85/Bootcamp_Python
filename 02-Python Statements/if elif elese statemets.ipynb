{
 "cells": [
  {
   "cell_type": "code",
   "execution_count": 8,
   "metadata": {},
   "outputs": [
    {
     "name": "stdout",
     "output_type": "stream",
     "text": [
      "Jeść!\n"
     ]
    }
   ],
   "source": [
    "hungry = True\n",
    "if hungry:\n",
    "    print('Jeść!')\n",
    "else:\n",
    "    print('Wypierdalaj')\n",
    "    "
   ]
  },
  {
   "cell_type": "code",
   "execution_count": 16,
   "metadata": {},
   "outputs": [
    {
     "name": "stdout",
     "output_type": "stream",
     "text": [
      "Chuj mnie to obchodzi\n"
     ]
    }
   ],
   "source": [
    "loc = 'Chropoców'\n",
    "\n",
    "if loc == 'Autoshop':\n",
    "    print('cars are cool')\n",
    "elif loc == 'Bank':\n",
    "    print('kasa kasa kasa')\n",
    "elif loc == 'sklep':\n",
    "    print('wypierdalaj z moje sklepu!')\n",
    "else:\n",
    "    print('Chuj mnie to obchodzi')"
   ]
  },
  {
   "cell_type": "code",
   "execution_count": 18,
   "metadata": {},
   "outputs": [
    {
     "name": "stdout",
     "output_type": "stream",
     "text": [
      "Jak się nazywasz?\n"
     ]
    }
   ],
   "source": [
    "name = 'Ku'\n",
    "\n",
    "if name == 'Gej':\n",
    "    print('Czesć geju')\n",
    "elif name == 'Kutas':\n",
    "    print('Czesc Kutasie')\n",
    "else:\n",
    "    print('Jak się nazywasz?')"
   ]
  },
  {
   "cell_type": "code",
   "execution_count": null,
   "metadata": {},
   "outputs": [],
   "source": []
  }
 ],
 "metadata": {
  "kernelspec": {
   "display_name": "Python 3",
   "language": "python",
   "name": "python3"
  },
  "language_info": {
   "codemirror_mode": {
    "name": "ipython",
    "version": 3
   },
   "file_extension": ".py",
   "mimetype": "text/x-python",
   "name": "python",
   "nbconvert_exporter": "python",
   "pygments_lexer": "ipython3",
   "version": "3.7.4"
  }
 },
 "nbformat": 4,
 "nbformat_minor": 2
}
