{
 "cells": [
  {
   "cell_type": "markdown",
   "metadata": {},
   "source": [
    "# Guessing Game Challenge\n",
    "\n",
    "Let's use `while` loops to create a guessing game.\n",
    "\n",
    "The Challenge:\n",
    "\n",
    "Write a program that picks a random integer from 1 to 100, and has players guess the number. The rules are:\n",
    "\n",
    "1. If a player's guess is less than 1 or greater than 100, say \"OUT OF BOUNDS\"\n",
    "2. On a player's first turn, if their guess is\n",
    " * within 10 of the number, return \"WARM!\"\n",
    " * further than 10 away from the number, return \"COLD!\"\n",
    "3. On all subsequent turns, if a guess is \n",
    " * closer to the number than the previous guess return \"WARMER!\"\n",
    " * farther from the number than the previous guess, return \"COLDER!\"\n",
    "4. When the player's guess equals the number, tell them they've guessed correctly *and* how many guesses it took!\n",
    "\n",
    "You can try this from scratch, or follow the steps outlined below. A separate Solution notebook has been provided. Good luck!\n"
   ]
  },
  {
   "cell_type": "markdown",
   "metadata": {},
   "source": [
    "#### First, pick a random integer from 1 to 100 using the random module and assign it to a variable\n",
    "\n",
    "Note: `random.randint(a,b)` returns a random integer in range `[a, b]`, including both end points."
   ]
  },
  {
   "cell_type": "code",
   "execution_count": 12,
   "metadata": {},
   "outputs": [
    {
     "data": {
      "text/plain": [
       "52"
      ]
     },
     "execution_count": 12,
     "metadata": {},
     "output_type": "execute_result"
    }
   ],
   "source": [
    "from random import randint\n",
    "random_number = randint(1,100)\n",
    "random_number"
   ]
  },
  {
   "cell_type": "code",
   "execution_count": null,
   "metadata": {},
   "outputs": [],
   "source": [
    "#### Next, print an introduction to the game and explain the rules"
   ]
  },
  {
   "cell_type": "code",
   "execution_count": 13,
   "metadata": {},
   "outputs": [
    {
     "name": "stdout",
     "output_type": "stream",
     "text": [
      "Zgadnij liczbe od 1 do 100. Wpisze wybraną liczbe nizej:\n",
      "55\n"
     ]
    }
   ],
   "source": [
    "print('Zgadnij liczbe od 1 do 100. Wpisze wybraną liczbe nizej:')\n",
    "liczba_gracza = input()"
   ]
  },
  {
   "cell_type": "markdown",
   "metadata": {},
   "source": [
    "#### Create a list to store guesses\n",
    "\n",
    "Hint: zero is a good placeholder value. It's useful because it evaluates to \"False\""
   ]
  },
  {
   "cell_type": "code",
   "execution_count": null,
   "metadata": {},
   "outputs": [],
   "source": [
    "lista = [0]\n"
   ]
  },
  {
   "cell_type": "markdown",
   "metadata": {},
   "source": [
    "#### Write a `while` loop that asks for a valid guess. Test it a few times to make sure it works."
   ]
  },
  {
   "cell_type": "code",
   "execution_count": null,
   "metadata": {},
   "outputs": [],
   "source": [
    "while int(liczba_gracza) != random_number:\n",
    "    print('Nie zgadłeś chuju, Podaj liczbe jeszcze raz:')\n",
    "    liczba_gracza = input()\n",
    "    lista.append(liczba_gracza)\n",
    "        \n",
    "\n",
    "    break\n",
    "    "
   ]
  },
  {
   "cell_type": "code",
   "execution_count": 17,
   "metadata": {},
   "outputs": [
    {
     "name": "stdout",
     "output_type": "stream",
     "text": [
      "1\n",
      "1\n"
     ]
    },
    {
     "data": {
      "text/plain": [
       "str"
      ]
     },
     "execution_count": 17,
     "metadata": {},
     "output_type": "execute_result"
    }
   ],
   "source": [
    "print(liczba_gracza)\n",
    "print (random_number)\n",
    "lista\n",
    "type (lista[-1])"
   ]
  },
  {
   "cell_type": "markdown",
   "metadata": {},
   "source": [
    "#### Write a `while` loop that compares the player's guess to our number. If the player guesses correctly, break from the loop. Otherwise, tell the player if they're warmer or colder, and continue asking for guesses.\n",
    "\n",
    "Some hints:\n",
    "* it may help to sketch out all possible combinations on paper first!\n",
    "* you can use the `abs()` function to find the positive difference between two numbers\n",
    "* if you append all new guesses to the list, then the previous guess is given as `guesses[-2]`"
   ]
  },
  {
   "cell_type": "code",
   "execution_count": 18,
   "metadata": {},
   "outputs": [
    {
     "name": "stdout",
     "output_type": "stream",
     "text": [
      "Zgadnij liczbe od 1 do 100. Wpisz wybraną liczbe nizej:\n",
      "50\n",
      "Ciepło w w chuj\n",
      "55\n",
      "Zimniej\n",
      "45\n",
      "Zimniej\n",
      "40\n",
      "Zimniej\n",
      "20\n",
      "Zimniej\n",
      "51\n",
      "Wygrałeś śmieciu!\n"
     ]
    }
   ],
   "source": [
    "from random import randint\n",
    "random_number = randint(1,100)\n",
    "#print(random_number)#zebym wiedzial co mam za randoma\n",
    "lista = [0]\n",
    "print('Zgadnij liczbe od 1 do 100. Wpisz wybraną liczbe nizej:')\n",
    "liczba_gracza = input()\n",
    "lista.append(liczba_gracza)\n",
    "if int(liczba_gracza) == random_number:\n",
    "    print('Wygrałeś śmieciu od razu! Gej!')\n",
    "elif abs(int(liczba_gracza) - random_number) <= 10:\n",
    "    print('Ciepło w w chuj')\n",
    "elif abs(int(liczba_gracza) - random_number) > 10:\n",
    "    print('Zimno w chuj')\n",
    "          \n",
    "while int(liczba_gracza) != random_number: #tu już siedzi w petli az zgadniesz\n",
    "    liczba_gracza = input()\n",
    "    lista.append(liczba_gracza)\n",
    "    ostatnia_liczba = int(lista[-1])\n",
    "    przedostatnia = int(lista[-2])\n",
    "    if ostatnia_liczba == random_number:\n",
    "        print('Wygrałeś śmieciu!')\n",
    "        break\n",
    "    elif abs(ostatnia_liczba - random_number) < abs(przedostatnia - random_number):\n",
    "        print ('Cieplej')\n",
    "    elif abs(ostatnia_liczba - random_number) > abs(przedostatnia - random_number):\n",
    "        print('Zimniej')\n",
    "         \n",
    "    pass\n"
   ]
  },
  {
   "cell_type": "markdown",
   "metadata": {},
   "source": [
    "That's it! You've just programmed your first game!\n",
    "\n",
    "In the next section we'll learn how to turn some of these repetitive actions into *functions* that can be called whenever we need them."
   ]
  },
  {
   "cell_type": "markdown",
   "metadata": {},
   "source": [
    "### Good Job!"
   ]
  }
 ],
 "metadata": {
  "kernelspec": {
   "display_name": "Python 3",
   "language": "python",
   "name": "python3"
  },
  "language_info": {
   "codemirror_mode": {
    "name": "ipython",
    "version": 3
   },
   "file_extension": ".py",
   "mimetype": "text/x-python",
   "name": "python",
   "nbconvert_exporter": "python",
   "pygments_lexer": "ipython3",
   "version": "3.7.4"
  }
 },
 "nbformat": 4,
 "nbformat_minor": 2
}
