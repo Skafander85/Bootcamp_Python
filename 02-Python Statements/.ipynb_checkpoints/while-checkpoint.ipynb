{
 "cells": [
  {
   "cell_type": "code",
   "execution_count": 1,
   "metadata": {},
   "outputs": [
    {
     "name": "stdout",
     "output_type": "stream",
     "text": [
      "The current walue of x is 0\n",
      "The current walue of x is 1\n",
      "The current walue of x is 2\n",
      "The current walue of x is 3\n",
      "The current walue of x is 4\n"
     ]
    }
   ],
   "source": [
    "x = 0 \n",
    "\n",
    "\n",
    "while x < 5:\n",
    "    print(f'The current walue of x is {x}')\n",
    "    x = x + 1\n",
    "    x += 1 #to samo co widzisz wyzej\n"
   ]
  },
  {
   "cell_type": "code",
   "execution_count": 3,
   "metadata": {},
   "outputs": [
    {
     "name": "stdout",
     "output_type": "stream",
     "text": [
      "X nie jest mniejsze od 5!!Chuju\n"
     ]
    }
   ],
   "source": [
    "x = 50 \n",
    "\n",
    "\n",
    "while x < 5:\n",
    "    print(f'The current walue of x is {x}')\n",
    "    x += 1 \n",
    "else:\n",
    "    print('X nie jest mniejsze od 5!!Chuju')"
   ]
  },
  {
   "cell_type": "code",
   "execution_count": 4,
   "metadata": {},
   "outputs": [
    {
     "name": "stdout",
     "output_type": "stream",
     "text": [
      "koniec skryptu\n"
     ]
    }
   ],
   "source": [
    "x = [1,2,3]\n",
    "\n",
    "for item in x:\n",
    "    #comment\n",
    "    pass #nic nie robi taki placeholder żeby nie wyjebalo erroru\n",
    "print('koniec skryptu')"
   ]
  },
  {
   "cell_type": "code",
   "execution_count": 7,
   "metadata": {},
   "outputs": [
    {
     "name": "stdout",
     "output_type": "stream",
     "text": [
      "S\n",
      "m\n",
      "m\n",
      "y\n"
     ]
    }
   ],
   "source": [
    "my_string = 'Sammy'\n",
    "\n",
    "for letter in my_string:\n",
    "    if letter == 'a': #wypisuje letere ale ominie a\n",
    "        continue\n",
    "    print(letter)"
   ]
  },
  {
   "cell_type": "code",
   "execution_count": 8,
   "metadata": {},
   "outputs": [
    {
     "name": "stdout",
     "output_type": "stream",
     "text": [
      "S\n"
     ]
    }
   ],
   "source": [
    "my_string = 'Sammy'\n",
    "\n",
    "for letter in my_string:\n",
    "    if letter == 'a': #przerywa na a\n",
    "        break\n",
    "    print(letter)"
   ]
  },
  {
   "cell_type": "code",
   "execution_count": 10,
   "metadata": {},
   "outputs": [
    {
     "name": "stdout",
     "output_type": "stream",
     "text": [
      "0\n",
      "1\n"
     ]
    }
   ],
   "source": [
    "x = 0\n",
    "while x < 5:\n",
    "    if x == 2:\n",
    "        break #zatrzyma na 2 ce\n",
    "    print(x)\n",
    "    x+=1"
   ]
  },
  {
   "cell_type": "code",
   "execution_count": null,
   "metadata": {},
   "outputs": [],
   "source": []
  }
 ],
 "metadata": {
  "kernelspec": {
   "display_name": "Python 3",
   "language": "python",
   "name": "python3"
  },
  "language_info": {
   "codemirror_mode": {
    "name": "ipython",
    "version": 3
   },
   "file_extension": ".py",
   "mimetype": "text/x-python",
   "name": "python",
   "nbconvert_exporter": "python",
   "pygments_lexer": "ipython3",
   "version": "3.7.4"
  }
 },
 "nbformat": 4,
 "nbformat_minor": 2
}
