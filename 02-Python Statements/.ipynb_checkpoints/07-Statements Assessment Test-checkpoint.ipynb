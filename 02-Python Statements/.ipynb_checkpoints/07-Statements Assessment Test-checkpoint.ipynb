{
 "cells": [
  {
   "cell_type": "markdown",
   "metadata": {
    "collapsed": true
   },
   "source": [
    "# Statements Assessment Test\n",
    "Let's test your knowledge!"
   ]
  },
  {
   "cell_type": "markdown",
   "metadata": {},
   "source": [
    "_____\n",
    "**Use <code>for</code>, .split(), and <code>if</code> to create a Statement that will print out words that start with 's':**"
   ]
  },
  {
   "cell_type": "code",
   "execution_count": 1,
   "metadata": {},
   "outputs": [],
   "source": [
    "st = 'Print only the words that start with s in this sentence'"
   ]
  },
  {
   "cell_type": "code",
   "execution_count": 9,
   "metadata": {},
   "outputs": [
    {
     "name": "stdout",
     "output_type": "stream",
     "text": [
      "start\n",
      "s\n",
      "sentence\n"
     ]
    }
   ],
   "source": [
    "#Code here\n",
    "splitted = st.split()\n",
    "for word in splitted:\n",
    "    if word[0] == 's':\n",
    "        print(word)"
   ]
  },
  {
   "cell_type": "markdown",
   "metadata": {},
   "source": [
    "______\n",
    "**Use range() to print all the even numbers from 0 to 10.**"
   ]
  },
  {
   "cell_type": "code",
   "execution_count": 32,
   "metadata": {},
   "outputs": [
    {
     "name": "stdout",
     "output_type": "stream",
     "text": [
      "0\n",
      "2\n",
      "4\n",
      "6\n",
      "8\n",
      "10\n"
     ]
    }
   ],
   "source": [
    "#Code Here\n",
    "mylist = []\n",
    "for number in range(0,11):\n",
    "    if number%2 == 0:\n",
    "        mylist.append(number)\n",
    "mylist\n",
    "#or\n",
    "list(range(0,11,2)) \n",
    "#or\n",
    "for num in range(0,11,2):\n",
    "    print(num)"
   ]
  },
  {
   "cell_type": "markdown",
   "metadata": {},
   "source": [
    "___\n",
    "**Use a List Comprehension to create a list of all numbers between 1 and 50 that are divisible by 3.**"
   ]
  },
  {
   "cell_type": "code",
   "execution_count": 16,
   "metadata": {},
   "outputs": [
    {
     "data": {
      "text/plain": [
       "[0, 3, 6, 9, 12, 15, 18, 21, 24, 27, 30, 33, 36, 39, 42, 45, 48]"
      ]
     },
     "execution_count": 16,
     "metadata": {},
     "output_type": "execute_result"
    }
   ],
   "source": [
    "#Code in this cell\n",
    "mylist = [x for x in range (0,51) if x%3 == 0]\n",
    "mylist"
   ]
  },
  {
   "cell_type": "markdown",
   "metadata": {},
   "source": [
    "_____\n",
    "**Go through the string below and if the length of a word is even print \"even!\"**"
   ]
  },
  {
   "cell_type": "code",
   "execution_count": 17,
   "metadata": {},
   "outputs": [],
   "source": [
    "st = 'Print every word in this sentence that has an even number of letters'"
   ]
  },
  {
   "cell_type": "code",
   "execution_count": 34,
   "metadata": {},
   "outputs": [
    {
     "name": "stdout",
     "output_type": "stream",
     "text": [
      "Create\n",
      "list\n",
      "of\n",
      "of\n",
      "word\n",
      "in\n",
      "this\n",
      "string\n"
     ]
    }
   ],
   "source": [
    "#Code in this cell\n",
    "mylist = st.split()\n",
    "for word in mylist:\n",
    "    if len(word)%2 == 0:\n",
    "        print(word)\n"
   ]
  },
  {
   "cell_type": "markdown",
   "metadata": {},
   "source": [
    "____\n",
    "**Write a program that prints the integers from 1 to 100. But for multiples of three print \"Fizz\" instead of the number, and for the multiples of five print \"Buzz\". For numbers which are multiples of both three and five print \"FizzBuzz\".**"
   ]
  },
  {
   "cell_type": "code",
   "execution_count": 29,
   "metadata": {},
   "outputs": [
    {
     "data": {
      "text/plain": [
       "[1,\n",
       " 2,\n",
       " 'Fizz',\n",
       " 4,\n",
       " 'Buzz',\n",
       " 'Fizz',\n",
       " 7,\n",
       " 8,\n",
       " 'Fizz',\n",
       " 'Buzz',\n",
       " 11,\n",
       " 'Fizz',\n",
       " 13,\n",
       " 14,\n",
       " 'FizBuzz',\n",
       " 16,\n",
       " 17,\n",
       " 'Fizz',\n",
       " 19,\n",
       " 'Buzz',\n",
       " 'Fizz',\n",
       " 22,\n",
       " 23,\n",
       " 'Fizz',\n",
       " 'Buzz',\n",
       " 26,\n",
       " 'Fizz',\n",
       " 28,\n",
       " 29,\n",
       " 'FizBuzz',\n",
       " 31,\n",
       " 32,\n",
       " 'Fizz',\n",
       " 34,\n",
       " 'Buzz',\n",
       " 'Fizz',\n",
       " 37,\n",
       " 38,\n",
       " 'Fizz',\n",
       " 'Buzz',\n",
       " 41,\n",
       " 'Fizz',\n",
       " 43,\n",
       " 44,\n",
       " 'FizBuzz',\n",
       " 46,\n",
       " 47,\n",
       " 'Fizz',\n",
       " 49,\n",
       " 'Buzz',\n",
       " 'Fizz',\n",
       " 52,\n",
       " 53,\n",
       " 'Fizz',\n",
       " 'Buzz',\n",
       " 56,\n",
       " 'Fizz',\n",
       " 58,\n",
       " 59,\n",
       " 'FizBuzz',\n",
       " 61,\n",
       " 62,\n",
       " 'Fizz',\n",
       " 64,\n",
       " 'Buzz',\n",
       " 'Fizz',\n",
       " 67,\n",
       " 68,\n",
       " 'Fizz',\n",
       " 'Buzz',\n",
       " 71,\n",
       " 'Fizz',\n",
       " 73,\n",
       " 74,\n",
       " 'FizBuzz',\n",
       " 76,\n",
       " 77,\n",
       " 'Fizz',\n",
       " 79,\n",
       " 'Buzz',\n",
       " 'Fizz',\n",
       " 82,\n",
       " 83,\n",
       " 'Fizz',\n",
       " 'Buzz',\n",
       " 86,\n",
       " 'Fizz',\n",
       " 88,\n",
       " 89,\n",
       " 'FizBuzz',\n",
       " 91,\n",
       " 92,\n",
       " 'Fizz',\n",
       " 94,\n",
       " 'Buzz',\n",
       " 'Fizz',\n",
       " 97,\n",
       " 98,\n",
       " 'Fizz',\n",
       " 'Buzz']"
      ]
     },
     "execution_count": 29,
     "metadata": {},
     "output_type": "execute_result"
    }
   ],
   "source": [
    "#Code in this cell\n",
    "answer = []\n",
    "zakres = range(1,101)\n",
    "for number in zakres:\n",
    "    if number%3 == 0 and number%5 == 0:\n",
    "        answer.append('FizBuzz')\n",
    "    elif number%3 == 0:\n",
    "        answer.append('Fizz')\n",
    "    elif number%5 == 0:\n",
    "        answer.append('Buzz')\n",
    "    \n",
    "    else:\n",
    "        answer.append(number)\n",
    "    \n",
    "answer"
   ]
  },
  {
   "cell_type": "markdown",
   "metadata": {},
   "source": [
    "____\n",
    "**Use List Comprehension to create a list of the first letters of every word in the string below:**"
   ]
  },
  {
   "cell_type": "code",
   "execution_count": 26,
   "metadata": {},
   "outputs": [],
   "source": [
    "st = 'Create a list of the first letters of every word in this string'"
   ]
  },
  {
   "cell_type": "code",
   "execution_count": 28,
   "metadata": {},
   "outputs": [
    {
     "data": {
      "text/plain": [
       "['C', 'a', 'l', 'o', 't', 'f', 'l', 'o', 'e', 'w', 'i', 't', 's']"
      ]
     },
     "execution_count": 28,
     "metadata": {},
     "output_type": "execute_result"
    }
   ],
   "source": [
    "#Code in this cell\n",
    "answer = [x[0] for x in st.split()]\n",
    "answer"
   ]
  },
  {
   "cell_type": "markdown",
   "metadata": {},
   "source": [
    "### Great Job!"
   ]
  }
 ],
 "metadata": {
  "kernelspec": {
   "display_name": "Python 3",
   "language": "python",
   "name": "python3"
  },
  "language_info": {
   "codemirror_mode": {
    "name": "ipython",
    "version": 3
   },
   "file_extension": ".py",
   "mimetype": "text/x-python",
   "name": "python",
   "nbconvert_exporter": "python",
   "pygments_lexer": "ipython3",
   "version": "3.7.4"
  }
 },
 "nbformat": 4,
 "nbformat_minor": 1
}
