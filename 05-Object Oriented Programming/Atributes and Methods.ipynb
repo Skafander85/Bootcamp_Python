{
 "cells": [
  {
   "cell_type": "code",
   "execution_count": 2,
   "metadata": {},
   "outputs": [
    {
     "data": {
      "text/plain": [
       "set"
      ]
     },
     "execution_count": 2,
     "metadata": {},
     "output_type": "execute_result"
    }
   ],
   "source": [
    "mylist = [1,2,3]\n",
    "myset = set()\n",
    "type(myset)"
   ]
  },
  {
   "cell_type": "code",
   "execution_count": 14,
   "metadata": {},
   "outputs": [],
   "source": [
    "class Dog():\n",
    "    \n",
    "    def __init__(self,mybreed):\n",
    "        #atributes\n",
    "        #bierzemy argument my breed i przypisujemy do samego siebie uzywajac self (moze byc coinnego ale tak sie przyjelo)\n",
    "        self.breed = mybreed\n",
    "        "
   ]
  },
  {
   "cell_type": "code",
   "execution_count": 22,
   "metadata": {},
   "outputs": [],
   "source": [
    "my_dog = Dog(mybreed = 'Lab')"
   ]
  },
  {
   "cell_type": "code",
   "execution_count": 17,
   "metadata": {},
   "outputs": [
    {
     "data": {
      "text/plain": [
       "__main__.Dog"
      ]
     },
     "execution_count": 17,
     "metadata": {},
     "output_type": "execute_result"
    }
   ],
   "source": [
    "type(my_dog)"
   ]
  },
  {
   "cell_type": "code",
   "execution_count": 19,
   "metadata": {},
   "outputs": [
    {
     "data": {
      "text/plain": [
       "'Lab'"
      ]
     },
     "execution_count": 19,
     "metadata": {},
     "output_type": "execute_result"
    }
   ],
   "source": [
    "my_dog.breed\n"
   ]
  },
  {
   "cell_type": "code",
   "execution_count": 21,
   "metadata": {},
   "outputs": [],
   "source": [
    "class Dog():\n",
    "    \n",
    "    def __init__(self,mybreed):\n",
    "        #atributes\n",
    "        #atrybut moze miec różne nazwy np my_atribute ale i tak raczej sie uzywa tych samych nazw\n",
    "        self.my_atribute = mybreed"
   ]
  },
  {
   "cell_type": "code",
   "execution_count": 23,
   "metadata": {},
   "outputs": [
    {
     "data": {
      "text/plain": [
       "'Lab'"
      ]
     },
     "execution_count": 23,
     "metadata": {},
     "output_type": "execute_result"
    }
   ],
   "source": [
    "my_dog.my_atribute\n"
   ]
  },
  {
   "cell_type": "code",
   "execution_count": 24,
   "metadata": {},
   "outputs": [],
   "source": [
    "class Dog():\n",
    "    \n",
    "    def __init__(self,breed):\n",
    "        #atributes\n",
    "        #atrybut moze miec różne nazwy np my_atribute ale i tak raczej sie uzywa tych samych nazw\n",
    "        self.breed = breed"
   ]
  },
  {
   "cell_type": "code",
   "execution_count": 25,
   "metadata": {},
   "outputs": [],
   "source": [
    "my_dog = Dog(breed = 'Chujek')"
   ]
  },
  {
   "cell_type": "code",
   "execution_count": 26,
   "metadata": {},
   "outputs": [
    {
     "data": {
      "text/plain": [
       "'Chujek'"
      ]
     },
     "execution_count": 26,
     "metadata": {},
     "output_type": "execute_result"
    }
   ],
   "source": [
    "my_dog.breed\n"
   ]
  },
  {
   "cell_type": "code",
   "execution_count": 34,
   "metadata": {},
   "outputs": [],
   "source": [
    "class Dog():\n",
    "    \n",
    "    def __init__(self,breed,name,latki): #konstrukcja twojego objektu\n",
    "        #atributes\n",
    "        #atrybut moze miec różne nazwy np my_atribute ale i tak raczej sie uzywa tych samych nazw\n",
    "        self.breed = breed #string\n",
    "        self.name = name #string\n",
    "        #Oczekuje bool a tu trus/false\n",
    "        self.latki = latki #bool"
   ]
  },
  {
   "cell_type": "code",
   "execution_count": 28,
   "metadata": {},
   "outputs": [],
   "source": [
    "my_dog = Dog(breed = 'Labrador', name = 'Szarik', latki = True)"
   ]
  },
  {
   "cell_type": "code",
   "execution_count": 31,
   "metadata": {},
   "outputs": [
    {
     "data": {
      "text/plain": [
       "True"
      ]
     },
     "execution_count": 31,
     "metadata": {},
     "output_type": "execute_result"
    }
   ],
   "source": [
    "my_dog.latki\n"
   ]
  },
  {
   "cell_type": "code",
   "execution_count": 32,
   "metadata": {},
   "outputs": [
    {
     "data": {
      "text/plain": [
       "'Szarik'"
      ]
     },
     "execution_count": 32,
     "metadata": {},
     "output_type": "execute_result"
    }
   ],
   "source": [
    "my_dog.name"
   ]
  },
  {
   "cell_type": "code",
   "execution_count": 33,
   "metadata": {},
   "outputs": [
    {
     "data": {
      "text/plain": [
       "'Labrador'"
      ]
     },
     "execution_count": 33,
     "metadata": {},
     "output_type": "execute_result"
    }
   ],
   "source": [
    "my_dog.breed"
   ]
  },
  {
   "cell_type": "code",
   "execution_count": 38,
   "metadata": {},
   "outputs": [],
   "source": [
    "class Dog():\n",
    "    # CLASS OBJECT ATRIBUTES\n",
    "    #Same for any instance of a class\n",
    "    # czyli nie podajesz juz self bo to bedzie uniwersalne dla calego obiektu nie tylko dla danej instancji\n",
    "    species = 'ssak' \n",
    "    \n",
    "    def __init__(self,breed,name,latki): #konstrukcja twojego objektu\n",
    "        #atributes\n",
    "        #atrybut moze miec różne nazwy np my_atribute ale i tak raczej sie uzywa tych samych nazw\n",
    "        self.breed = breed #string\n",
    "        self.name = name #string\n",
    "        #Oczekuje bool a tu trus/false\n",
    "        self.latki = latki #bool"
   ]
  },
  {
   "cell_type": "code",
   "execution_count": 40,
   "metadata": {},
   "outputs": [],
   "source": [
    "my_dog = Dog(breed ='LAb', name = 'Gej', latki=False)"
   ]
  },
  {
   "cell_type": "code",
   "execution_count": 41,
   "metadata": {},
   "outputs": [
    {
     "data": {
      "text/plain": [
       "'ssak'"
      ]
     },
     "execution_count": 41,
     "metadata": {},
     "output_type": "execute_result"
    }
   ],
   "source": [
    "my_dog.species\n"
   ]
  },
  {
   "cell_type": "code",
   "execution_count": 42,
   "metadata": {},
   "outputs": [],
   "source": [
    "#Metody - to sa funkcje w objekcie do robienia dzialań"
   ]
  },
  {
   "cell_type": "code",
   "execution_count": 45,
   "metadata": {},
   "outputs": [],
   "source": [
    "class Dog():\n",
    "    # CLASS OBJECT ATRIBUTES\n",
    "    #Same for any instance of a class\n",
    "    # czyli nie podajesz juz self bo to bedzie uniwersalne dla calego obiektu nie tylko dla danej instancji\n",
    "    species = 'ssak' \n",
    "    \n",
    "    def __init__(self,breed,name): #konstrukcja twojego objektu\n",
    "        #atributes\n",
    "        #atrybut moze miec różne nazwy np my_atribute ale i tak raczej sie uzywa tych samych nazw\n",
    "        self.breed = breed #string\n",
    "        self.name = name #string\n",
    "        \n",
    "    #Operations/Actions ----> Methods\n",
    "    def bark(self):\n",
    "        print('Woof')"
   ]
  },
  {
   "cell_type": "code",
   "execution_count": 68,
   "metadata": {},
   "outputs": [],
   "source": [
    "my_dog = Dog('Lab','fFFF')"
   ]
  },
  {
   "cell_type": "code",
   "execution_count": 47,
   "metadata": {},
   "outputs": [
    {
     "data": {
      "text/plain": [
       "'Lab'"
      ]
     },
     "execution_count": 47,
     "metadata": {},
     "output_type": "execute_result"
    }
   ],
   "source": [
    "#atrybuty nie maja () bo je tylko wywolujesz nic nie robia nie sa wykonywane\n",
    "my_dog.breed "
   ]
  },
  {
   "cell_type": "code",
   "execution_count": 48,
   "metadata": {},
   "outputs": [
    {
     "data": {
      "text/plain": [
       "'fFFF'"
      ]
     },
     "execution_count": 48,
     "metadata": {},
     "output_type": "execute_result"
    }
   ],
   "source": [
    "my_dog.name"
   ]
  },
  {
   "cell_type": "code",
   "execution_count": 49,
   "metadata": {},
   "outputs": [
    {
     "data": {
      "text/plain": [
       "<bound method Dog.bark of <__main__.Dog object at 0x000002179A58AEC8>>"
      ]
     },
     "execution_count": 49,
     "metadata": {},
     "output_type": "execute_result"
    }
   ],
   "source": [
    "my_dog.bark #wywolanie metody wymaga () bo to wykonuje coś\n"
   ]
  },
  {
   "cell_type": "code",
   "execution_count": 57,
   "metadata": {},
   "outputs": [
    {
     "name": "stdout",
     "output_type": "stream",
     "text": [
      "Woof My name is fFFF\n"
     ]
    }
   ],
   "source": [
    "my_dog.bark() #wywolalem metody a ta wyprintowala to co chciałem"
   ]
  },
  {
   "cell_type": "code",
   "execution_count": 64,
   "metadata": {},
   "outputs": [],
   "source": [
    "class Dog():\n",
    "    # CLASS OBJECT ATRIBUTES\n",
    "    #Same for any instance of a class\n",
    "    # czyli nie podajesz juz self bo to bedzie uniwersalne dla calego obiektu nie tylko dla danej instancji\n",
    "    species = 'ssak' \n",
    "    \n",
    "    def __init__(self,breed,name): #konstrukcja twojego objektu\n",
    "        #atributes\n",
    "        #atrybut moze miec różne nazwy np my_atribute ale i tak raczej sie uzywa tych samych nazw\n",
    "        self.breed = breed #string\n",
    "        self.name = name #string\n",
    "        \n",
    "    #Operations/Actions ----> Methods\n",
    "    def bark(self):\n",
    "        print('Woof! My name is {}'.format(self.name)) #<<< zauwaz ze podajesz slef.name a nie name "
   ]
  },
  {
   "cell_type": "code",
   "execution_count": 66,
   "metadata": {},
   "outputs": [
    {
     "name": "stdout",
     "output_type": "stream",
     "text": [
      "Woof! My name is fFFF\n"
     ]
    }
   ],
   "source": [
    "my_dog.bark()"
   ]
  },
  {
   "cell_type": "code",
   "execution_count": 70,
   "metadata": {},
   "outputs": [],
   "source": [
    "class Dog():\n",
    "    # CLASS OBJECT ATRIBUTES\n",
    "    #Same for any instance of a class\n",
    "    # czyli nie podajesz juz self bo to bedzie uniwersalne dla calego obiektu nie tylko dla danej instancji\n",
    "    species = 'ssak' \n",
    "    \n",
    "    def __init__(self,breed,name): #konstrukcja twojego objektu\n",
    "        #atributes\n",
    "        #atrybut moze miec różne nazwy np my_atribute ale i tak raczej sie uzywa tych samych nazw\n",
    "        self.breed = breed #string\n",
    "        self.name = name #string\n",
    "        \n",
    "    #Operations/Actions ----> Methods\n",
    "    def bark(self, number): #mozna przeslac wiecej argumentów\n",
    "        print('Woof! My name is {} and the number is {}'.format(self.name,number)) #nie dodaje self bo przekazuje ta name poza inicie "
   ]
  },
  {
   "cell_type": "code",
   "execution_count": 71,
   "metadata": {},
   "outputs": [
    {
     "name": "stdout",
     "output_type": "stream",
     "text": [
      "Woof! My name is fFFF and the number is 5\n"
     ]
    }
   ],
   "source": [
    "my_dog.bark(5)"
   ]
  },
  {
   "cell_type": "code",
   "execution_count": 99,
   "metadata": {},
   "outputs": [],
   "source": [
    "class Circle ():\n",
    "    # CLass object attribute\n",
    "    pi = 3.14\n",
    "    \n",
    "    def __init__(self,radius = 1): #default value is 1\n",
    "        self.radius = radius\n",
    "        self.area =  radius**2 * self.pi #mozna tez dac Circle.pi bo to object class atribute\n",
    "        \n",
    "    #method\n",
    "    def get_circumference(self):\n",
    "        return self.radius * Circle.pi * 2"
   ]
  },
  {
   "cell_type": "code",
   "execution_count": 103,
   "metadata": {},
   "outputs": [],
   "source": [
    "my_circle = Circle (30)"
   ]
  },
  {
   "cell_type": "code",
   "execution_count": 101,
   "metadata": {},
   "outputs": [
    {
     "data": {
      "text/plain": [
       "3.14"
      ]
     },
     "execution_count": 101,
     "metadata": {},
     "output_type": "execute_result"
    }
   ],
   "source": [
    "my_circle.pi"
   ]
  },
  {
   "cell_type": "code",
   "execution_count": 102,
   "metadata": {},
   "outputs": [
    {
     "data": {
      "text/plain": [
       "30"
      ]
     },
     "execution_count": 102,
     "metadata": {},
     "output_type": "execute_result"
    }
   ],
   "source": [
    "my_circle.radius"
   ]
  },
  {
   "cell_type": "code",
   "execution_count": 98,
   "metadata": {},
   "outputs": [
    {
     "data": {
      "text/plain": [
       "188.4"
      ]
     },
     "execution_count": 98,
     "metadata": {},
     "output_type": "execute_result"
    }
   ],
   "source": [
    "my_circle.get_circumference()"
   ]
  },
  {
   "cell_type": "code",
   "execution_count": 96,
   "metadata": {},
   "outputs": [
    {
     "data": {
      "text/plain": [
       "2826.0"
      ]
     },
     "execution_count": 96,
     "metadata": {},
     "output_type": "execute_result"
    }
   ],
   "source": [
    "my_circle.area"
   ]
  },
  {
   "cell_type": "code",
   "execution_count": null,
   "metadata": {},
   "outputs": [],
   "source": []
  }
 ],
 "metadata": {
  "kernelspec": {
   "display_name": "Python 3",
   "language": "python",
   "name": "python3"
  },
  "language_info": {
   "codemirror_mode": {
    "name": "ipython",
    "version": 3
   },
   "file_extension": ".py",
   "mimetype": "text/x-python",
   "name": "python",
   "nbconvert_exporter": "python",
   "pygments_lexer": "ipython3",
   "version": "3.7.4"
  }
 },
 "nbformat": 4,
 "nbformat_minor": 2
}
