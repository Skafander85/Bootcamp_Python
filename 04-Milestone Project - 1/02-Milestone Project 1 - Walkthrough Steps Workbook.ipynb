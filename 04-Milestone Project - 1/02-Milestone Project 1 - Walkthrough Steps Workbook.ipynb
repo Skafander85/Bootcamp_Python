{
 "cells": [
  {
   "cell_type": "markdown",
   "metadata": {},
   "source": [
    "# Milestone Project 1: Walkthrough Steps Workbook\n",
    "\n",
    "Below is a set of steps for you to follow to try to create the Tic Tac Toe Milestone Project game!"
   ]
  },
  {
   "cell_type": "markdown",
   "metadata": {},
   "source": [
    "#### Some suggested tools before you get started:\n",
    "To take input from a user:\n",
    "\n",
    "    player1 = input(\"Please pick a marker 'X' or 'O'\")\n",
    "    \n",
    "Note that input() takes in a string. If you need an integer value, use\n",
    "\n",
    "    position = int(input('Please enter a number'))\n",
    "    \n",
    "<br>To clear the screen between moves:\n",
    "\n",
    "    from IPython.display import clear_output\n",
    "    clear_output()\n",
    "    \n",
    "Note that clear_output() will only work in jupyter. To clear the screen in other IDEs, consider:\n",
    "\n",
    "    print('\\n'*100)\n",
    "    \n",
    "This scrolls the previous board up out of view. Now on to the program!"
   ]
  },
  {
   "cell_type": "markdown",
   "metadata": {},
   "source": [
    "**Step 1: Write a function that can print out a board. Set up your board as a list, where each index 1-9 corresponds with a number on a number pad, so you get a 3 by 3 board representation.**"
   ]
  },
  {
   "cell_type": "code",
   "execution_count": 1,
   "metadata": {},
   "outputs": [],
   "source": [
    "from IPython.display import clear_output\n",
    "\n",
    "def display_board(board):\n",
    "    print (' {7} | {8} | {9} \\n --------- \\n {4} | {5} | {6}  \\n --------- \\n {1} | {2} | {3} '.format(board[0],board[1],board[2],board[3],board[4],board[5],board[6],board[7],board[8],board[9]))\n",
    "    pass"
   ]
  },
  {
   "cell_type": "markdown",
   "metadata": {},
   "source": [
    "**TEST Step 1:** run your function on a test version of the board list, and make adjustments as necessary"
   ]
  },
  {
   "cell_type": "code",
   "execution_count": 2,
   "metadata": {},
   "outputs": [
    {
     "name": "stdout",
     "output_type": "stream",
     "text": [
      " X | O | X \n",
      " --------- \n",
      " X | O | O  \n",
      " --------- \n",
      " X | O | O \n"
     ]
    }
   ],
   "source": [
    "test_board = ['#','X','O','O','X','O','O','X','O','X']\n",
    "display_board(test_board)"
   ]
  },
  {
   "cell_type": "markdown",
   "metadata": {},
   "source": [
    "**Step 2: Write a function that can take in a player input and assign their marker as 'X' or 'O'. Think about using *while* loops to continually ask until you get a correct answer.**"
   ]
  },
  {
   "cell_type": "code",
   "execution_count": 27,
   "metadata": {},
   "outputs": [],
   "source": [
    "def player_input():\n",
    "    player1 = \"\"\n",
    "    print (\"Witaj w mojej grze chujku! Kółko i krzyżyk! \\n\\n\")\n",
    "    \n",
    "    print (\"Player1: Grasz X czy O mistrzu?\")\n",
    "    while len(player1) == 0:\n",
    "        wybor = input(\"Wpisz x lub o tutaj: \")\n",
    "        if wybor.lower() == 'x':\n",
    "            player1 = wybor.uper()\n",
    "            break\n",
    "        elif wybor.lower()  == 'o':\n",
    "            player1 = wybor.uper()\n",
    "            break\n",
    "        else:\n",
    "            print('\\n Źle wpisałeś, śmieciu! Dawaj jeszcze raz!')\n",
    "            continue\n",
    "    return player1"
   ]
  },
  {
   "cell_type": "markdown",
   "metadata": {},
   "source": [
    "**TEST Step 2:** run the function to make sure it returns the desired output"
   ]
  },
  {
   "cell_type": "code",
   "execution_count": 21,
   "metadata": {},
   "outputs": [
    {
     "name": "stdout",
     "output_type": "stream",
     "text": [
      "Witaj w mojej grze chujku! Kółko i krzyżyk! \n",
      "\n",
      "\n",
      "Player1: Grasz X czy O mistrzu?\n",
      "Wpisz x lub o tutaj: X\n"
     ]
    },
    {
     "data": {
      "text/plain": [
       "'x'"
      ]
     },
     "execution_count": 21,
     "metadata": {},
     "output_type": "execute_result"
    }
   ],
   "source": [
    "player_input()"
   ]
  },
  {
   "cell_type": "markdown",
   "metadata": {},
   "source": [
    "**Step 3: Write a function that takes in the board list object, a marker ('X' or 'O'), and a desired position (number 1-9) and assigns it to the board.**"
   ]
  },
  {
   "cell_type": "code",
   "execution_count": 4,
   "metadata": {},
   "outputs": [],
   "source": [
    "def place_marker(board, marker, position):\n",
    "    board[position] = marker\n",
    "    return board\n",
    "    pass"
   ]
  },
  {
   "cell_type": "markdown",
   "metadata": {},
   "source": [
    "**TEST Step 3:** run the place marker function using test parameters and display the modified board"
   ]
  },
  {
   "cell_type": "code",
   "execution_count": 6,
   "metadata": {},
   "outputs": [
    {
     "name": "stdout",
     "output_type": "stream",
     "text": [
      " X | O | X \n",
      " --------- \n",
      " X | O | O  \n",
      " --------- \n",
      "   | O | O \n"
     ]
    }
   ],
   "source": [
    "place_marker(test_board,' ',1)\n",
    "display_board(test_board)"
   ]
  },
  {
   "cell_type": "markdown",
   "metadata": {},
   "source": [
    "**Step 4: Write a function that takes in a board and a mark (X or O) and then checks to see if that mark has won. **"
   ]
  },
  {
   "cell_type": "code",
   "execution_count": 68,
   "metadata": {},
   "outputs": [],
   "source": [
    "def win_check(board, mark):\n",
    "    winlist = [mark,mark,mark]\n",
    "    winline =(board[1:4],board[4:7],board[7:10],board[1:10:4],board[1:10:4],board[3:9:2],board[1:9:3],board[2:9:3],board[3:10:3])\n",
    "    \n",
    "    for pos in winline:\n",
    "        if pos == winlist:\n",
    "            return True\n",
    "            break\n",
    "       \n",
    "    return False\n",
    "    pass"
   ]
  },
  {
   "cell_type": "markdown",
   "metadata": {},
   "source": [
    "**TEST Step 4:** run the win_check function against our test_board - it should return True"
   ]
  },
  {
   "cell_type": "code",
   "execution_count": 69,
   "metadata": {},
   "outputs": [
    {
     "data": {
      "text/plain": [
       "True"
      ]
     },
     "execution_count": 69,
     "metadata": {},
     "output_type": "execute_result"
    }
   ],
   "source": [
    "win_check(test_board,'X')"
   ]
  },
  {
   "cell_type": "markdown",
   "metadata": {},
   "source": [
    "**Step 5: Write a function that uses the random module to randomly decide which player goes first. You may want to lookup random.randint() Return a string of which player went first.**"
   ]
  },
  {
   "cell_type": "code",
   "execution_count": 85,
   "metadata": {},
   "outputs": [],
   "source": [
    "import random\n",
    "\n",
    "def choose_first():\n",
    "    random_num = random.randint(1,100)\n",
    "    print ('Ten chujek gra pierwszy: Jebany!')\n",
    "    if random_num%2 == 0:\n",
    "        \n",
    "        return 'Player1'\n",
    "    else:\n",
    "        return 'Player2'\n",
    "    pass"
   ]
  },
  {
   "cell_type": "code",
   "execution_count": 89,
   "metadata": {},
   "outputs": [
    {
     "name": "stdout",
     "output_type": "stream",
     "text": [
      "Ten chujek gra pierwszy: Jebany!\n",
      "Player1\n"
     ]
    },
    {
     "data": {
      "text/plain": [
       "str"
      ]
     },
     "execution_count": 89,
     "metadata": {},
     "output_type": "execute_result"
    }
   ],
   "source": [
    "\n",
    "wynik = choose_first()\n",
    "print(wynik)\n",
    "type(wynik)"
   ]
  },
  {
   "cell_type": "markdown",
   "metadata": {},
   "source": [
    "**Step 6: Write a function that returns a boolean indicating whether a space on the board is freely available.**"
   ]
  },
  {
   "cell_type": "code",
   "execution_count": 7,
   "metadata": {},
   "outputs": [],
   "source": [
    "def space_check(board, position):\n",
    "    if board[position] == \" \":\n",
    "        return True\n",
    "    else:\n",
    "        return False\n",
    "    \n",
    "    pass"
   ]
  },
  {
   "cell_type": "code",
   "execution_count": 9,
   "metadata": {},
   "outputs": [
    {
     "data": {
      "text/plain": [
       "True"
      ]
     },
     "execution_count": 9,
     "metadata": {},
     "output_type": "execute_result"
    }
   ],
   "source": [
    "space_check(test_board,1)"
   ]
  },
  {
   "cell_type": "markdown",
   "metadata": {},
   "source": [
    "**Step 7: Write a function that checks if the board is full and returns a boolean value. True if full, False otherwise.**"
   ]
  },
  {
   "cell_type": "code",
   "execution_count": 10,
   "metadata": {},
   "outputs": [],
   "source": [
    "def full_board_check(board):\n",
    "    if \" \" in board:\n",
    "        return False\n",
    "    else:\n",
    "        return True\n",
    "    pass"
   ]
  },
  {
   "cell_type": "code",
   "execution_count": 11,
   "metadata": {},
   "outputs": [
    {
     "data": {
      "text/plain": [
       "False"
      ]
     },
     "execution_count": 11,
     "metadata": {},
     "output_type": "execute_result"
    }
   ],
   "source": [
    "full_board_check(test_board)"
   ]
  },
  {
   "cell_type": "markdown",
   "metadata": {},
   "source": [
    "**Step 8: Write a function that asks for a player's next position (as a number 1-9) and then uses the function from step 6 to check if it's a free position. If it is, then return the position for later use.**"
   ]
  },
  {
   "cell_type": "code",
   "execution_count": 12,
   "metadata": {},
   "outputs": [],
   "source": [
    "def player_choice(board):\n",
    "    position = 0\n",
    "    while position == 0:\n",
    "        wybor = input(\"Wpisz pozycję gdzie chcesz ustawić znak, śmieciu: \")\n",
    "        if space_check(board,int(wybor)):\n",
    "            position = wybor\n",
    "            return  position\n",
    "            break\n",
    "        else:\n",
    "            print('\\n To miejsce jest już zajęte cwelu! Dawaj jeszcze raz!')\n",
    "            continue\n",
    "    pass"
   ]
  },
  {
   "cell_type": "code",
   "execution_count": 13,
   "metadata": {},
   "outputs": [
    {
     "name": "stdout",
     "output_type": "stream",
     "text": [
      "Wpisz pozycję gdzie chcesz ustawić znak, śmieciu: 1\n"
     ]
    },
    {
     "data": {
      "text/plain": [
       "'1'"
      ]
     },
     "execution_count": 13,
     "metadata": {},
     "output_type": "execute_result"
    }
   ],
   "source": [
    "player_choice(test_board)"
   ]
  },
  {
   "cell_type": "markdown",
   "metadata": {},
   "source": [
    "**Step 9: Write a function that asks the player if they want to play again and returns a boolean True if they do want to play again.**"
   ]
  },
  {
   "cell_type": "code",
   "execution_count": 14,
   "metadata": {},
   "outputs": [],
   "source": [
    "def replay():\n",
    "    print(\"Chcecie zagrać jeszcze raz Śmiecie?\")\n",
    "    l_powtorzen = 0\n",
    "    wynik = 0\n",
    "    while wynik == 0:\n",
    "        wybor = input(\"Wpisz T jeśli tak, N jeśli nie:\")\n",
    "        if wybor.lower() == \"t\":\n",
    "            return  True\n",
    "            break\n",
    "        if wybor.lower() == 'n' or l_powtorzen == 3:\n",
    "            return  False\n",
    "            break\n",
    "        else:\n",
    "            l_powtorzen += 1\n",
    "            print('\\n\\n Wpisz T lub N, czego nie rozumiesz?!')\n",
    "            continue\n",
    "    pass"
   ]
  },
  {
   "cell_type": "code",
   "execution_count": 16,
   "metadata": {},
   "outputs": [
    {
     "name": "stdout",
     "output_type": "stream",
     "text": [
      "Chcecie zagrać jeszcze raz Śmiecie?\n",
      "Wpisz T jeśli tak, N jeśli nie:g\n",
      "\n",
      "\n",
      " Wpisz T lub N, czego nie rozumiesz?!\n",
      "Wpisz T jeśli tak, N jeśli nie:g\n",
      "\n",
      "\n",
      " Wpisz T lub N, czego nie rozumiesz?!\n",
      "Wpisz T jeśli tak, N jeśli nie:g\n",
      "\n",
      "\n",
      " Wpisz T lub N, czego nie rozumiesz?!\n",
      "Wpisz T jeśli tak, N jeśli nie:g\n"
     ]
    },
    {
     "data": {
      "text/plain": [
       "False"
      ]
     },
     "execution_count": 16,
     "metadata": {},
     "output_type": "execute_result"
    }
   ],
   "source": [
    "replay()"
   ]
  },
  {
   "cell_type": "markdown",
   "metadata": {
    "collapsed": true
   },
   "source": [
    "**Step 10: Here comes the hard part! Use while loops and the functions you've made to run the game!**"
   ]
  },
  {
   "cell_type": "code",
   "execution_count": 24,
   "metadata": {},
   "outputs": [
    {
     "ename": "SyntaxError",
     "evalue": "invalid syntax (<ipython-input-24-7757eb3dc1d9>, line 135)",
     "output_type": "error",
     "traceback": [
      "\u001b[1;36m  File \u001b[1;32m\"<ipython-input-24-7757eb3dc1d9>\"\u001b[1;36m, line \u001b[1;32m135\u001b[0m\n\u001b[1;33m    board = place_marker(board, marker, position):\u001b[0m\n\u001b[1;37m                                                 ^\u001b[0m\n\u001b[1;31mSyntaxError\u001b[0m\u001b[1;31m:\u001b[0m invalid syntax\n"
     ]
    }
   ],
   "source": [
    "#importy\n",
    "from IPython.display import clear_output\n",
    "import random\n",
    "print(\"Witaj w mojej grze chujku! Kółko i krzyżyk! \\n\\n\")\n",
    "\n",
    "# Set the game up here\n",
    "#rysuje planszę\n",
    "def display_board(board): \n",
    "    print (' {7} | {8} | {9} \\n --------- \\n {4} | {5} | {6}  \\n --------- \\n {1} | {2} | {3} '.format(board[0],board[1],board[2],board[3],board[4],board[5],board[6],board[7],board[8],board[9]))\n",
    "\n",
    "\n",
    "#losuje kto gra pierwszy\n",
    "def choose_first():\n",
    "    random_num = random.randint(1,100)\n",
    "    print ('Ten chujek gra pierwszy: ')\n",
    "    if random_num%2 == 0:\n",
    "        \n",
    "        return 'Player1'\n",
    "    else:\n",
    "        return 'Player2'\n",
    "    pass    \n",
    "\n",
    "#Wybierz czym gra gracz\n",
    "def player_input():\n",
    "    znak = \"\"    \n",
    "    print (\"Czym grasz mistrzu?\")\n",
    "    while len(znak) == 0:\n",
    "        wybor = input(\"Wpisz x lub o tutaj: \")\n",
    "        if wybor.lower() == 'x':\n",
    "            znak = wybor.uper()\n",
    "            break\n",
    "        elif wybor.lower()  == 'o':\n",
    "            znak = wybor.uper()\n",
    "            break\n",
    "        else:\n",
    "            print('\\n Źle wpisałeś, śmieciu! Dawaj jeszcze raz!')\n",
    "            continue\n",
    "    return znak\n",
    "\n",
    "#wstawia znak gracza na plansze\n",
    "def place_marker(board, marker, position): \n",
    "    board[position] = marker\n",
    "    return board\n",
    "    pass\n",
    "\n",
    "#sprawdza czy gracz wygrał, sprawdza znaki\n",
    "def win_check(board, mark):\n",
    "    winlist = [mark,mark,mark]\n",
    "    winline =(board[1:4],board[4:7],board[7:10],board[1:10:4],board[1:10:4],board[3:9:2],board[1:9:3],board[2:9:3],board[3:10:3])\n",
    "    \n",
    "    for pos in winline:\n",
    "        if pos == winlist:\n",
    "            return True\n",
    "            break\n",
    "       \n",
    "    return False\n",
    "    pass\n",
    "\n",
    "#sprawdzam czy wybrane miejsce jest wolne\n",
    "def space_check(board, position):\n",
    "    if board[position] == \" \":\n",
    "        return True\n",
    "    else:\n",
    "        return False\n",
    "\n",
    "#sprawdzam czy plansza jest zapełniona\n",
    "def full_board_check(board):\n",
    "    if \" \" in board:\n",
    "        return False\n",
    "    else:\n",
    "        return True\n",
    "    pass\n",
    "\n",
    "#wybór pola przez gracza\n",
    "def player_choice(board):\n",
    "    position = 0\n",
    "    while position == 0:\n",
    "        wybor = input(\"Wpisz pozycję gdzie chcesz ustawić znak, śmieciu: \")\n",
    "        if space_check(board,int(wybor)):\n",
    "            position = wybor\n",
    "            return  position\n",
    "            break\n",
    "        else:\n",
    "            print('\\n To miejsce jest już zajęte cwelu! Dawaj jeszcze raz!')\n",
    "            continue\n",
    "            \n",
    "#czy powtórzyć grę? \n",
    "def replay():\n",
    "    print(\"Chcecie zagrać jeszcze raz Śmiecie?\")\n",
    "    l_powtorzen = 0\n",
    "    wynik = 0\n",
    "    while wynik == 0:\n",
    "        wybor = input(\"Wpisz T jeśli tak, N jeśli nie:\")\n",
    "        if wybor.lower() == \"t\":\n",
    "            return  True\n",
    "            break\n",
    "        if wybor.lower() == 'n' or l_powtorzen == 3:\n",
    "            return  False\n",
    "            break\n",
    "        else:\n",
    "            l_powtorzen += 1\n",
    "            print('\\n\\n Wpisz T lub N, czego nie rozumiesz?!')\n",
    "            continue\n",
    "\n",
    "board = ['#',' ',' ',' ',' ',' ',' ',' ',' ',' ']\n",
    "#while True:\n",
    "start = 0\n",
    "while start == 0:\n",
    "    game_on = 1\n",
    "    #pass\n",
    "    player1 = choose_first()\n",
    "    if player1 == 'Player1':\n",
    "        player2 = 'Player2'\n",
    "    else:\n",
    "        player2 = 'Player1'\n",
    "    print(player1)\n",
    "    marker = player_input()\n",
    "    if marker == 'X':\n",
    "        marker2 = 'O'\n",
    "    else:\n",
    "        marker2 = 'X'\n",
    "    \n",
    "    \n",
    "    #while game_on:\n",
    "    while game_on == 1:\n",
    "        \n",
    "        \n",
    "        \n",
    "        #Player 1 Turn\n",
    "        while turn == 1:\n",
    "            display_board(board)\n",
    "            print('Wybiera {}'.format(player1))\n",
    "            position = player_choice(board)\n",
    "            if space_check(board, position):\n",
    "                board = place_marker(board, marker, position):\n",
    "                turn = 2\n",
    "                break\n",
    "            else:\n",
    "                continue\n",
    "        # Player2's turn.\n",
    "        while turn == 2:\n",
    "            display_board(board)\n",
    "            print('Wybiera {}'.format(player2))\n",
    "            position = player_choice(board)\n",
    "            if space_check(board, position):\n",
    "                board = place_marker(board, marker2, position)\n",
    "                turn = 1\n",
    "                break\n",
    "            else:\n",
    "                continue\n",
    "        #pass    \n",
    "        if full_board_check(board):\n",
    "            if win_check(board, marker):\n",
    "                return marker\n",
    "                game_on == 0\n",
    "            if win_check(board, marker2):\n",
    "                return marker2\n",
    "                game_on == 0\n",
    "    \n",
    "    #if not replay():\n",
    "    #break\n",
    "    if replay() != True:\n",
    "        start = 1\n",
    "        break\n",
    "                        \n",
    "        \n",
    "        \n",
    "            \n",
    "            \n",
    "\n",
    "    "
   ]
  },
  {
   "cell_type": "markdown",
   "metadata": {
    "collapsed": true
   },
   "source": [
    "## Good Job!"
   ]
  }
 ],
 "metadata": {
  "kernelspec": {
   "display_name": "Python 3",
   "language": "python",
   "name": "python3"
  },
  "language_info": {
   "codemirror_mode": {
    "name": "ipython",
    "version": 3
   },
   "file_extension": ".py",
   "mimetype": "text/x-python",
   "name": "python",
   "nbconvert_exporter": "python",
   "pygments_lexer": "ipython3",
   "version": "3.7.4"
  }
 },
 "nbformat": 4,
 "nbformat_minor": 1
}
