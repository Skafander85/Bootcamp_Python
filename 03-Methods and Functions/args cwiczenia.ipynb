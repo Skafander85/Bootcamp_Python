{
 "cells": [
  {
   "cell_type": "code",
   "execution_count": 51,
   "metadata": {},
   "outputs": [],
   "source": [
    "def myfunc(*args):\n",
    "    wynik = []\n",
    "    for n in args:\n",
    "        if n%2 == 0:\n",
    "            wynik.append(n)\n",
    "    return wynik"
   ]
  },
  {
   "cell_type": "code",
   "execution_count": 76,
   "metadata": {},
   "outputs": [
    {
     "name": "stdout",
     "output_type": "stream",
     "text": [
      "DuPa\n"
     ]
    }
   ],
   "source": [
    "myfunc ('dupa')"
   ]
  },
  {
   "cell_type": "code",
   "execution_count": 75,
   "metadata": {},
   "outputs": [],
   "source": [
    "def myfunc(*args):\n",
    "    x=0\n",
    "    slowo= \"\"\n",
    "    dlugosc = len(args[0])\n",
    "    for n in args[0]:\n",
    "        if x%2== 0:\n",
    "            litera = args[0][x].upper()\n",
    "            \n",
    "        else:\n",
    "            litera = args[0][x].lower()\n",
    "            \n",
    "        slowo = slowo + litera\n",
    "        x += 1\n",
    "        \n",
    "    print (slowo)"
   ]
  },
  {
   "cell_type": "code",
   "execution_count": null,
   "metadata": {},
   "outputs": [],
   "source": []
  },
  {
   "cell_type": "code",
   "execution_count": null,
   "metadata": {},
   "outputs": [],
   "source": []
  }
 ],
 "metadata": {
  "kernelspec": {
   "display_name": "Python 3",
   "language": "python",
   "name": "python3"
  },
  "language_info": {
   "codemirror_mode": {
    "name": "ipython",
    "version": 3
   },
   "file_extension": ".py",
   "mimetype": "text/x-python",
   "name": "python",
   "nbconvert_exporter": "python",
   "pygments_lexer": "ipython3",
   "version": "3.7.4"
  }
 },
 "nbformat": 4,
 "nbformat_minor": 2
}
